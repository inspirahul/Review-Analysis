{
 "cells": [
  {
   "cell_type": "code",
   "execution_count": 3,
   "metadata": {},
   "outputs": [],
   "source": [
    "from bs4 import BeautifulSoup"
   ]
  },
  {
   "cell_type": "code",
   "execution_count": 4,
   "metadata": {},
   "outputs": [],
   "source": [
    "import requests\n"
   ]
  },
  {
   "cell_type": "code",
   "execution_count": 5,
   "metadata": {},
   "outputs": [],
   "source": [
    "url ='https://www.tripadvisor.in/Restaurant_Review-g304551-d6352484-Reviews-K3-New_Delhi_National_Capital_Territory_of_Delhi.html'"
   ]
  },
  {
   "cell_type": "code",
   "execution_count": 6,
   "metadata": {},
   "outputs": [],
   "source": [
    "r = requests.get(url)"
   ]
  },
  {
   "cell_type": "code",
   "execution_count": 7,
   "metadata": {},
   "outputs": [],
   "source": [
    "data = r.text"
   ]
  },
  {
   "cell_type": "code",
   "execution_count": 8,
   "metadata": {},
   "outputs": [],
   "source": [
    "soup = BeautifulSoup(data)"
   ]
  },
  {
   "cell_type": "code",
   "execution_count": 9,
   "metadata": {},
   "outputs": [],
   "source": [
    "review_container = soup.find_all('div', {'class':'review-container'})"
   ]
  },
  {
   "cell_type": "code",
   "execution_count": 11,
   "metadata": {},
   "outputs": [
    {
     "data": {
      "text/plain": [
       "10"
      ]
     },
     "execution_count": 11,
     "metadata": {},
     "output_type": "execute_result"
    }
   ],
   "source": [
    "len(review_container)"
   ]
  },
  {
   "cell_type": "code",
   "execution_count": 12,
   "metadata": {},
   "outputs": [],
   "source": [
    "final=[]\n",
    "\n",
    "for review in review_container:\n",
    "    title = review.find('span',{'class':'noQuotes'}).get_text()\n",
    "    paragraph = review.find('p', {'class':'partial_entry'}).get_text()\n",
    "    date = review.find('div', {'class':'prw_reviews_stay_date_hsx'}).get_text().replace('Date of visit:', '')\n",
    "    rating = review.find('span', {'class':'ui_bubble_rating'})['class'][1]\n",
    "    \n",
    "    final.append([rating,date,paragraph,title])"
   ]
  },
  {
   "cell_type": "code",
   "execution_count": 13,
   "metadata": {},
   "outputs": [
    {
     "data": {
      "text/plain": [
       "[['bubble_50',\n",
       "  ' September 2019',\n",
       "  'After a long day visiting Agra what an awesome experience. Thanks Akshay for being the the best server!  I ordered al la cart (wasn’t super hungry), but the buffet also looks very good with a plethora of choices.  I highly recommend this restaurant.',\n",
       "  'Great food with wonderful service!'],\n",
       " ['bubble_50',\n",
       "  ' September 2019',\n",
       "  'What a wonderful team they have there. Supervisor Atish is excellent. So warm, welcoming, hospitality at its best indeed. Thank you so much Atish for taking care of me when i was there last week.More',\n",
       "  'excellent hospitality'],\n",
       " ['bubble_50',\n",
       "  ' September 2019',\n",
       "  'Had an amazing food experience with k3. Everything was just perfect \\nFood\\nPresentations \\nand the Service provided by Rishabh and Mayank was very nice. Overall experience with them was fabulous. ThanxMore',\n",
       "  'Excellent'],\n",
       " ['bubble_50',\n",
       "  ' September 2019',\n",
       "  'First of all sorry for writing the review so late as i was travelling. I visited the k3 on friday with my family. There was so rush that we had to wait for the table to be allotted to us. As my wife was pregnant...More',\n",
       "  'Best service at k3'],\n",
       " ['bubble_50',\n",
       "  ' September 2019',\n",
       "  'This was a repeat visit at K3.\\nEnjoyed the food.. pizza was yum..  \\nThanks Rishabh and Mayank for great service.More',\n",
       "  'Awesome'],\n",
       " ['bubble_50',\n",
       "  ' September 2019',\n",
       "  'I come to this hotel 2-3 times a month and I’m treated like family!\\n\\nToday, I desired Dal Makhani and although not on the menu, Chef Rahul made sure I got it!\\n\\nDelicious!\\n\\nThe wait staff, kitchen staff and host staff are all very accommodating....More',\n",
       "  'Chef Rahul takes care of his valued customers!!!'],\n",
       " ['bubble_40',\n",
       "  ' September 2019',\n",
       "  'Celebrated my birthday at K3 today and it was a lovely experience. We were very well looked after & Digamber from bakery created a warm experience for me with a small cake.\\nChefs from the live Italian counter were very hospitable. \\n\\nOverall it was a...More',\n",
       "  'Lunch at K3'],\n",
       " ['bubble_50',\n",
       "  ' September 2019',\n",
       "  'The food in this places is amazing. Is varied and very tasty. \\nThe sous chef Ashish Sharma was very welcoming and his food is of excellent quality.More',\n",
       "  'Excellent food'],\n",
       " ['bubble_50',\n",
       "  ' August 2019',\n",
       "  'Had a great experience dining at K3 here you can enjoy variety of food and experience a excellent service I was served by Rishabh and he provided everything on time and my family loved the service as well Keep it up JW Marriott👍More',\n",
       "  'Good food good service'],\n",
       " ['bubble_50',\n",
       "  ' September 2019',\n",
       "  'It’s a lovely place to be at. The food is tasty and the restaurant is just beautiful. Akshay and Bhupal waited on us and they were just lovely. Overall, it was a nice experience. Food is slightly expensive, however. \\n\\nHighly recommended 🙌🏻More',\n",
       "  'Brilliant food, great ambience & nice hospitality']]"
      ]
     },
     "execution_count": 13,
     "metadata": {},
     "output_type": "execute_result"
    }
   ],
   "source": [
    "final"
   ]
  },
  {
   "cell_type": "code",
   "execution_count": 14,
   "metadata": {},
   "outputs": [],
   "source": [
    "import pandas as pd"
   ]
  },
  {
   "cell_type": "code",
   "execution_count": 15,
   "metadata": {},
   "outputs": [],
   "source": [
    "frame = pd.DataFrame(final, columns=['Rating','Review Date','Review Paragraph', 'Review Title'])"
   ]
  },
  {
   "cell_type": "code",
   "execution_count": 16,
   "metadata": {},
   "outputs": [
    {
     "data": {
      "text/html": [
       "<div>\n",
       "<style scoped>\n",
       "    .dataframe tbody tr th:only-of-type {\n",
       "        vertical-align: middle;\n",
       "    }\n",
       "\n",
       "    .dataframe tbody tr th {\n",
       "        vertical-align: top;\n",
       "    }\n",
       "\n",
       "    .dataframe thead th {\n",
       "        text-align: right;\n",
       "    }\n",
       "</style>\n",
       "<table border=\"1\" class=\"dataframe\">\n",
       "  <thead>\n",
       "    <tr style=\"text-align: right;\">\n",
       "      <th></th>\n",
       "      <th>Rating</th>\n",
       "      <th>Review Date</th>\n",
       "      <th>Review Paragraph</th>\n",
       "      <th>Review Title</th>\n",
       "    </tr>\n",
       "  </thead>\n",
       "  <tbody>\n",
       "    <tr>\n",
       "      <th>0</th>\n",
       "      <td>bubble_50</td>\n",
       "      <td>September 2019</td>\n",
       "      <td>After a long day visiting Agra what an awesome...</td>\n",
       "      <td>Great food with wonderful service!</td>\n",
       "    </tr>\n",
       "    <tr>\n",
       "      <th>1</th>\n",
       "      <td>bubble_50</td>\n",
       "      <td>September 2019</td>\n",
       "      <td>What a wonderful team they have there. Supervi...</td>\n",
       "      <td>excellent hospitality</td>\n",
       "    </tr>\n",
       "    <tr>\n",
       "      <th>2</th>\n",
       "      <td>bubble_50</td>\n",
       "      <td>September 2019</td>\n",
       "      <td>Had an amazing food experience with k3. Everyt...</td>\n",
       "      <td>Excellent</td>\n",
       "    </tr>\n",
       "    <tr>\n",
       "      <th>3</th>\n",
       "      <td>bubble_50</td>\n",
       "      <td>September 2019</td>\n",
       "      <td>First of all sorry for writing the review so l...</td>\n",
       "      <td>Best service at k3</td>\n",
       "    </tr>\n",
       "    <tr>\n",
       "      <th>4</th>\n",
       "      <td>bubble_50</td>\n",
       "      <td>September 2019</td>\n",
       "      <td>This was a repeat visit at K3.\\nEnjoyed the fo...</td>\n",
       "      <td>Awesome</td>\n",
       "    </tr>\n",
       "    <tr>\n",
       "      <th>5</th>\n",
       "      <td>bubble_50</td>\n",
       "      <td>September 2019</td>\n",
       "      <td>I come to this hotel 2-3 times a month and I’m...</td>\n",
       "      <td>Chef Rahul takes care of his valued customers!!!</td>\n",
       "    </tr>\n",
       "    <tr>\n",
       "      <th>6</th>\n",
       "      <td>bubble_40</td>\n",
       "      <td>September 2019</td>\n",
       "      <td>Celebrated my birthday at K3 today and it was ...</td>\n",
       "      <td>Lunch at K3</td>\n",
       "    </tr>\n",
       "    <tr>\n",
       "      <th>7</th>\n",
       "      <td>bubble_50</td>\n",
       "      <td>September 2019</td>\n",
       "      <td>The food in this places is amazing. Is varied ...</td>\n",
       "      <td>Excellent food</td>\n",
       "    </tr>\n",
       "    <tr>\n",
       "      <th>8</th>\n",
       "      <td>bubble_50</td>\n",
       "      <td>August 2019</td>\n",
       "      <td>Had a great experience dining at K3 here you c...</td>\n",
       "      <td>Good food good service</td>\n",
       "    </tr>\n",
       "    <tr>\n",
       "      <th>9</th>\n",
       "      <td>bubble_50</td>\n",
       "      <td>September 2019</td>\n",
       "      <td>It’s a lovely place to be at. The food is tast...</td>\n",
       "      <td>Brilliant food, great ambience &amp; nice hospitality</td>\n",
       "    </tr>\n",
       "  </tbody>\n",
       "</table>\n",
       "</div>"
      ],
      "text/plain": [
       "      Rating      Review Date  \\\n",
       "0  bubble_50   September 2019   \n",
       "1  bubble_50   September 2019   \n",
       "2  bubble_50   September 2019   \n",
       "3  bubble_50   September 2019   \n",
       "4  bubble_50   September 2019   \n",
       "5  bubble_50   September 2019   \n",
       "6  bubble_40   September 2019   \n",
       "7  bubble_50   September 2019   \n",
       "8  bubble_50      August 2019   \n",
       "9  bubble_50   September 2019   \n",
       "\n",
       "                                    Review Paragraph  \\\n",
       "0  After a long day visiting Agra what an awesome...   \n",
       "1  What a wonderful team they have there. Supervi...   \n",
       "2  Had an amazing food experience with k3. Everyt...   \n",
       "3  First of all sorry for writing the review so l...   \n",
       "4  This was a repeat visit at K3.\\nEnjoyed the fo...   \n",
       "5  I come to this hotel 2-3 times a month and I’m...   \n",
       "6  Celebrated my birthday at K3 today and it was ...   \n",
       "7  The food in this places is amazing. Is varied ...   \n",
       "8  Had a great experience dining at K3 here you c...   \n",
       "9  It’s a lovely place to be at. The food is tast...   \n",
       "\n",
       "                                        Review Title  \n",
       "0                 Great food with wonderful service!  \n",
       "1                              excellent hospitality  \n",
       "2                                          Excellent  \n",
       "3                                 Best service at k3  \n",
       "4                                            Awesome  \n",
       "5   Chef Rahul takes care of his valued customers!!!  \n",
       "6                                        Lunch at K3  \n",
       "7                                     Excellent food  \n",
       "8                             Good food good service  \n",
       "9  Brilliant food, great ambience & nice hospitality  "
      ]
     },
     "execution_count": 16,
     "metadata": {},
     "output_type": "execute_result"
    }
   ],
   "source": [
    "frame"
   ]
  },
  {
   "cell_type": "code",
   "execution_count": 17,
   "metadata": {},
   "outputs": [],
   "source": [
    "frame['Rating']= frame['Rating'].replace('bubble_50', '5')\n",
    "frame['Rating']= frame['Rating'].replace('bubble_40', '4')"
   ]
  },
  {
   "cell_type": "markdown",
   "metadata": {},
   "source": [
    "First Page of Reviews of K3 Restaurant"
   ]
  },
  {
   "cell_type": "code",
   "execution_count": 18,
   "metadata": {},
   "outputs": [
    {
     "data": {
      "text/html": [
       "<div>\n",
       "<style scoped>\n",
       "    .dataframe tbody tr th:only-of-type {\n",
       "        vertical-align: middle;\n",
       "    }\n",
       "\n",
       "    .dataframe tbody tr th {\n",
       "        vertical-align: top;\n",
       "    }\n",
       "\n",
       "    .dataframe thead th {\n",
       "        text-align: right;\n",
       "    }\n",
       "</style>\n",
       "<table border=\"1\" class=\"dataframe\">\n",
       "  <thead>\n",
       "    <tr style=\"text-align: right;\">\n",
       "      <th></th>\n",
       "      <th>Rating</th>\n",
       "      <th>Review Date</th>\n",
       "      <th>Review Paragraph</th>\n",
       "      <th>Review Title</th>\n",
       "    </tr>\n",
       "  </thead>\n",
       "  <tbody>\n",
       "    <tr>\n",
       "      <th>0</th>\n",
       "      <td>5</td>\n",
       "      <td>September 2019</td>\n",
       "      <td>After a long day visiting Agra what an awesome...</td>\n",
       "      <td>Great food with wonderful service!</td>\n",
       "    </tr>\n",
       "    <tr>\n",
       "      <th>1</th>\n",
       "      <td>5</td>\n",
       "      <td>September 2019</td>\n",
       "      <td>What a wonderful team they have there. Supervi...</td>\n",
       "      <td>excellent hospitality</td>\n",
       "    </tr>\n",
       "    <tr>\n",
       "      <th>2</th>\n",
       "      <td>5</td>\n",
       "      <td>September 2019</td>\n",
       "      <td>Had an amazing food experience with k3. Everyt...</td>\n",
       "      <td>Excellent</td>\n",
       "    </tr>\n",
       "    <tr>\n",
       "      <th>3</th>\n",
       "      <td>5</td>\n",
       "      <td>September 2019</td>\n",
       "      <td>First of all sorry for writing the review so l...</td>\n",
       "      <td>Best service at k3</td>\n",
       "    </tr>\n",
       "    <tr>\n",
       "      <th>4</th>\n",
       "      <td>5</td>\n",
       "      <td>September 2019</td>\n",
       "      <td>This was a repeat visit at K3.\\nEnjoyed the fo...</td>\n",
       "      <td>Awesome</td>\n",
       "    </tr>\n",
       "    <tr>\n",
       "      <th>5</th>\n",
       "      <td>5</td>\n",
       "      <td>September 2019</td>\n",
       "      <td>I come to this hotel 2-3 times a month and I’m...</td>\n",
       "      <td>Chef Rahul takes care of his valued customers!!!</td>\n",
       "    </tr>\n",
       "    <tr>\n",
       "      <th>6</th>\n",
       "      <td>4</td>\n",
       "      <td>September 2019</td>\n",
       "      <td>Celebrated my birthday at K3 today and it was ...</td>\n",
       "      <td>Lunch at K3</td>\n",
       "    </tr>\n",
       "    <tr>\n",
       "      <th>7</th>\n",
       "      <td>5</td>\n",
       "      <td>September 2019</td>\n",
       "      <td>The food in this places is amazing. Is varied ...</td>\n",
       "      <td>Excellent food</td>\n",
       "    </tr>\n",
       "    <tr>\n",
       "      <th>8</th>\n",
       "      <td>5</td>\n",
       "      <td>August 2019</td>\n",
       "      <td>Had a great experience dining at K3 here you c...</td>\n",
       "      <td>Good food good service</td>\n",
       "    </tr>\n",
       "    <tr>\n",
       "      <th>9</th>\n",
       "      <td>5</td>\n",
       "      <td>September 2019</td>\n",
       "      <td>It’s a lovely place to be at. The food is tast...</td>\n",
       "      <td>Brilliant food, great ambience &amp; nice hospitality</td>\n",
       "    </tr>\n",
       "  </tbody>\n",
       "</table>\n",
       "</div>"
      ],
      "text/plain": [
       "  Rating      Review Date                                   Review Paragraph  \\\n",
       "0      5   September 2019  After a long day visiting Agra what an awesome...   \n",
       "1      5   September 2019  What a wonderful team they have there. Supervi...   \n",
       "2      5   September 2019  Had an amazing food experience with k3. Everyt...   \n",
       "3      5   September 2019  First of all sorry for writing the review so l...   \n",
       "4      5   September 2019  This was a repeat visit at K3.\\nEnjoyed the fo...   \n",
       "5      5   September 2019  I come to this hotel 2-3 times a month and I’m...   \n",
       "6      4   September 2019  Celebrated my birthday at K3 today and it was ...   \n",
       "7      5   September 2019  The food in this places is amazing. Is varied ...   \n",
       "8      5      August 2019  Had a great experience dining at K3 here you c...   \n",
       "9      5   September 2019  It’s a lovely place to be at. The food is tast...   \n",
       "\n",
       "                                        Review Title  \n",
       "0                 Great food with wonderful service!  \n",
       "1                              excellent hospitality  \n",
       "2                                          Excellent  \n",
       "3                                 Best service at k3  \n",
       "4                                            Awesome  \n",
       "5   Chef Rahul takes care of his valued customers!!!  \n",
       "6                                        Lunch at K3  \n",
       "7                                     Excellent food  \n",
       "8                             Good food good service  \n",
       "9  Brilliant food, great ambience & nice hospitality  "
      ]
     },
     "execution_count": 18,
     "metadata": {},
     "output_type": "execute_result"
    }
   ],
   "source": [
    "frame"
   ]
  },
  {
   "cell_type": "code",
   "execution_count": 19,
   "metadata": {},
   "outputs": [],
   "source": [
    "frame.to_excel('Data Analyst Internship Submission.xlsx')"
   ]
  },
  {
   "cell_type": "markdown",
   "metadata": {},
   "source": [
    "Text Processing Starts Now!!!!!!!!"
   ]
  },
  {
   "cell_type": "code",
   "execution_count": 20,
   "metadata": {},
   "outputs": [],
   "source": [
    "#Case conversion to Lower\n",
    "frame['Review Paragraph']=frame['Review Paragraph'].str.lower()\n",
    "frame['Review Title']=frame['Review Title'].str.lower()"
   ]
  },
  {
   "cell_type": "code",
   "execution_count": null,
   "metadata": {},
   "outputs": [],
   "source": []
  },
  {
   "cell_type": "code",
   "execution_count": null,
   "metadata": {},
   "outputs": [],
   "source": []
  },
  {
   "cell_type": "code",
   "execution_count": 21,
   "metadata": {},
   "outputs": [],
   "source": [
    "import nltk"
   ]
  },
  {
   "cell_type": "code",
   "execution_count": 22,
   "metadata": {},
   "outputs": [],
   "source": [
    "from nltk.tokenize import word_tokenize"
   ]
  },
  {
   "cell_type": "code",
   "execution_count": 23,
   "metadata": {},
   "outputs": [],
   "source": [
    "import nltk"
   ]
  },
  {
   "cell_type": "code",
   "execution_count": 24,
   "metadata": {},
   "outputs": [
    {
     "name": "stderr",
     "output_type": "stream",
     "text": [
      "[nltk_data] Downloading package punkt to\n",
      "[nltk_data]     C:\\Users\\rahul\\AppData\\Roaming\\nltk_data...\n",
      "[nltk_data]   Package punkt is already up-to-date!\n"
     ]
    },
    {
     "data": {
      "text/plain": [
       "True"
      ]
     },
     "execution_count": 24,
     "metadata": {},
     "output_type": "execute_result"
    }
   ],
   "source": [
    "nltk.download('punkt')"
   ]
  },
  {
   "cell_type": "code",
   "execution_count": 25,
   "metadata": {},
   "outputs": [
    {
     "data": {
      "text/html": [
       "<div>\n",
       "<style scoped>\n",
       "    .dataframe tbody tr th:only-of-type {\n",
       "        vertical-align: middle;\n",
       "    }\n",
       "\n",
       "    .dataframe tbody tr th {\n",
       "        vertical-align: top;\n",
       "    }\n",
       "\n",
       "    .dataframe thead th {\n",
       "        text-align: right;\n",
       "    }\n",
       "</style>\n",
       "<table border=\"1\" class=\"dataframe\">\n",
       "  <thead>\n",
       "    <tr style=\"text-align: right;\">\n",
       "      <th></th>\n",
       "      <th>Rating</th>\n",
       "      <th>Review Date</th>\n",
       "      <th>Review Paragraph</th>\n",
       "      <th>Review Title</th>\n",
       "    </tr>\n",
       "  </thead>\n",
       "  <tbody>\n",
       "    <tr>\n",
       "      <th>0</th>\n",
       "      <td>5</td>\n",
       "      <td>September 2019</td>\n",
       "      <td>after a long day visiting agra what an awesome...</td>\n",
       "      <td>great food with wonderful service!</td>\n",
       "    </tr>\n",
       "    <tr>\n",
       "      <th>1</th>\n",
       "      <td>5</td>\n",
       "      <td>September 2019</td>\n",
       "      <td>what a wonderful team they have there. supervi...</td>\n",
       "      <td>excellent hospitality</td>\n",
       "    </tr>\n",
       "    <tr>\n",
       "      <th>2</th>\n",
       "      <td>5</td>\n",
       "      <td>September 2019</td>\n",
       "      <td>had an amazing food experience with k3. everyt...</td>\n",
       "      <td>excellent</td>\n",
       "    </tr>\n",
       "    <tr>\n",
       "      <th>3</th>\n",
       "      <td>5</td>\n",
       "      <td>September 2019</td>\n",
       "      <td>first of all sorry for writing the review so l...</td>\n",
       "      <td>best service at k3</td>\n",
       "    </tr>\n",
       "    <tr>\n",
       "      <th>4</th>\n",
       "      <td>5</td>\n",
       "      <td>September 2019</td>\n",
       "      <td>this was a repeat visit at k3.\\nenjoyed the fo...</td>\n",
       "      <td>awesome</td>\n",
       "    </tr>\n",
       "    <tr>\n",
       "      <th>5</th>\n",
       "      <td>5</td>\n",
       "      <td>September 2019</td>\n",
       "      <td>i come to this hotel 2-3 times a month and i’m...</td>\n",
       "      <td>chef rahul takes care of his valued customers!!!</td>\n",
       "    </tr>\n",
       "    <tr>\n",
       "      <th>6</th>\n",
       "      <td>4</td>\n",
       "      <td>September 2019</td>\n",
       "      <td>celebrated my birthday at k3 today and it was ...</td>\n",
       "      <td>lunch at k3</td>\n",
       "    </tr>\n",
       "    <tr>\n",
       "      <th>7</th>\n",
       "      <td>5</td>\n",
       "      <td>September 2019</td>\n",
       "      <td>the food in this places is amazing. is varied ...</td>\n",
       "      <td>excellent food</td>\n",
       "    </tr>\n",
       "    <tr>\n",
       "      <th>8</th>\n",
       "      <td>5</td>\n",
       "      <td>August 2019</td>\n",
       "      <td>had a great experience dining at k3 here you c...</td>\n",
       "      <td>good food good service</td>\n",
       "    </tr>\n",
       "    <tr>\n",
       "      <th>9</th>\n",
       "      <td>5</td>\n",
       "      <td>September 2019</td>\n",
       "      <td>it’s a lovely place to be at. the food is tast...</td>\n",
       "      <td>brilliant food, great ambience &amp; nice hospitality</td>\n",
       "    </tr>\n",
       "  </tbody>\n",
       "</table>\n",
       "</div>"
      ],
      "text/plain": [
       "  Rating      Review Date                                   Review Paragraph  \\\n",
       "0      5   September 2019  after a long day visiting agra what an awesome...   \n",
       "1      5   September 2019  what a wonderful team they have there. supervi...   \n",
       "2      5   September 2019  had an amazing food experience with k3. everyt...   \n",
       "3      5   September 2019  first of all sorry for writing the review so l...   \n",
       "4      5   September 2019  this was a repeat visit at k3.\\nenjoyed the fo...   \n",
       "5      5   September 2019  i come to this hotel 2-3 times a month and i’m...   \n",
       "6      4   September 2019  celebrated my birthday at k3 today and it was ...   \n",
       "7      5   September 2019  the food in this places is amazing. is varied ...   \n",
       "8      5      August 2019  had a great experience dining at k3 here you c...   \n",
       "9      5   September 2019  it’s a lovely place to be at. the food is tast...   \n",
       "\n",
       "                                        Review Title  \n",
       "0                 great food with wonderful service!  \n",
       "1                              excellent hospitality  \n",
       "2                                          excellent  \n",
       "3                                 best service at k3  \n",
       "4                                            awesome  \n",
       "5   chef rahul takes care of his valued customers!!!  \n",
       "6                                        lunch at k3  \n",
       "7                                     excellent food  \n",
       "8                             good food good service  \n",
       "9  brilliant food, great ambience & nice hospitality  "
      ]
     },
     "execution_count": 25,
     "metadata": {},
     "output_type": "execute_result"
    }
   ],
   "source": [
    "frame"
   ]
  },
  {
   "cell_type": "code",
   "execution_count": 26,
   "metadata": {},
   "outputs": [],
   "source": [
    "#Punctuation Removal from Column Review Paragraph\n",
    "\n",
    "frame['Review Paragraph'] = frame['Review Paragraph'].str.replace('[^\\w\\s]','')"
   ]
  },
  {
   "cell_type": "code",
   "execution_count": 27,
   "metadata": {},
   "outputs": [],
   "source": [
    "#Punctuation Removal from Column Review title\n",
    "frame['Review Title'] = frame['Review Title'].str.replace('[^\\w\\s]','')"
   ]
  },
  {
   "cell_type": "code",
   "execution_count": 28,
   "metadata": {},
   "outputs": [
    {
     "data": {
      "text/html": [
       "<div>\n",
       "<style scoped>\n",
       "    .dataframe tbody tr th:only-of-type {\n",
       "        vertical-align: middle;\n",
       "    }\n",
       "\n",
       "    .dataframe tbody tr th {\n",
       "        vertical-align: top;\n",
       "    }\n",
       "\n",
       "    .dataframe thead th {\n",
       "        text-align: right;\n",
       "    }\n",
       "</style>\n",
       "<table border=\"1\" class=\"dataframe\">\n",
       "  <thead>\n",
       "    <tr style=\"text-align: right;\">\n",
       "      <th></th>\n",
       "      <th>Rating</th>\n",
       "      <th>Review Date</th>\n",
       "      <th>Review Paragraph</th>\n",
       "      <th>Review Title</th>\n",
       "    </tr>\n",
       "  </thead>\n",
       "  <tbody>\n",
       "    <tr>\n",
       "      <th>0</th>\n",
       "      <td>5</td>\n",
       "      <td>September 2019</td>\n",
       "      <td>after a long day visiting agra what an awesome...</td>\n",
       "      <td>great food with wonderful service</td>\n",
       "    </tr>\n",
       "    <tr>\n",
       "      <th>1</th>\n",
       "      <td>5</td>\n",
       "      <td>September 2019</td>\n",
       "      <td>what a wonderful team they have there supervis...</td>\n",
       "      <td>excellent hospitality</td>\n",
       "    </tr>\n",
       "    <tr>\n",
       "      <th>2</th>\n",
       "      <td>5</td>\n",
       "      <td>September 2019</td>\n",
       "      <td>had an amazing food experience with k3 everyth...</td>\n",
       "      <td>excellent</td>\n",
       "    </tr>\n",
       "    <tr>\n",
       "      <th>3</th>\n",
       "      <td>5</td>\n",
       "      <td>September 2019</td>\n",
       "      <td>first of all sorry for writing the review so l...</td>\n",
       "      <td>best service at k3</td>\n",
       "    </tr>\n",
       "    <tr>\n",
       "      <th>4</th>\n",
       "      <td>5</td>\n",
       "      <td>September 2019</td>\n",
       "      <td>this was a repeat visit at k3\\nenjoyed the foo...</td>\n",
       "      <td>awesome</td>\n",
       "    </tr>\n",
       "    <tr>\n",
       "      <th>5</th>\n",
       "      <td>5</td>\n",
       "      <td>September 2019</td>\n",
       "      <td>i come to this hotel 23 times a month and im t...</td>\n",
       "      <td>chef rahul takes care of his valued customers</td>\n",
       "    </tr>\n",
       "    <tr>\n",
       "      <th>6</th>\n",
       "      <td>4</td>\n",
       "      <td>September 2019</td>\n",
       "      <td>celebrated my birthday at k3 today and it was ...</td>\n",
       "      <td>lunch at k3</td>\n",
       "    </tr>\n",
       "    <tr>\n",
       "      <th>7</th>\n",
       "      <td>5</td>\n",
       "      <td>September 2019</td>\n",
       "      <td>the food in this places is amazing is varied a...</td>\n",
       "      <td>excellent food</td>\n",
       "    </tr>\n",
       "    <tr>\n",
       "      <th>8</th>\n",
       "      <td>5</td>\n",
       "      <td>August 2019</td>\n",
       "      <td>had a great experience dining at k3 here you c...</td>\n",
       "      <td>good food good service</td>\n",
       "    </tr>\n",
       "    <tr>\n",
       "      <th>9</th>\n",
       "      <td>5</td>\n",
       "      <td>September 2019</td>\n",
       "      <td>its a lovely place to be at the food is tasty ...</td>\n",
       "      <td>brilliant food great ambience  nice hospitality</td>\n",
       "    </tr>\n",
       "  </tbody>\n",
       "</table>\n",
       "</div>"
      ],
      "text/plain": [
       "  Rating      Review Date                                   Review Paragraph  \\\n",
       "0      5   September 2019  after a long day visiting agra what an awesome...   \n",
       "1      5   September 2019  what a wonderful team they have there supervis...   \n",
       "2      5   September 2019  had an amazing food experience with k3 everyth...   \n",
       "3      5   September 2019  first of all sorry for writing the review so l...   \n",
       "4      5   September 2019  this was a repeat visit at k3\\nenjoyed the foo...   \n",
       "5      5   September 2019  i come to this hotel 23 times a month and im t...   \n",
       "6      4   September 2019  celebrated my birthday at k3 today and it was ...   \n",
       "7      5   September 2019  the food in this places is amazing is varied a...   \n",
       "8      5      August 2019  had a great experience dining at k3 here you c...   \n",
       "9      5   September 2019  its a lovely place to be at the food is tasty ...   \n",
       "\n",
       "                                      Review Title  \n",
       "0                great food with wonderful service  \n",
       "1                            excellent hospitality  \n",
       "2                                        excellent  \n",
       "3                               best service at k3  \n",
       "4                                          awesome  \n",
       "5    chef rahul takes care of his valued customers  \n",
       "6                                      lunch at k3  \n",
       "7                                   excellent food  \n",
       "8                           good food good service  \n",
       "9  brilliant food great ambience  nice hospitality  "
      ]
     },
     "execution_count": 28,
     "metadata": {},
     "output_type": "execute_result"
    }
   ],
   "source": [
    "frame"
   ]
  },
  {
   "cell_type": "code",
   "execution_count": 29,
   "metadata": {},
   "outputs": [],
   "source": [
    "import nltk"
   ]
  },
  {
   "cell_type": "code",
   "execution_count": 30,
   "metadata": {},
   "outputs": [],
   "source": [
    "from nltk.tokenize import word_tokenize"
   ]
  },
  {
   "cell_type": "code",
   "execution_count": 31,
   "metadata": {},
   "outputs": [],
   "source": [
    "#Tokenization of Column Review Paragraph\n",
    "\n",
    "frame['tokenized_para'] = frame['Review Paragraph'].apply(word_tokenize)"
   ]
  },
  {
   "cell_type": "code",
   "execution_count": 32,
   "metadata": {},
   "outputs": [
    {
     "data": {
      "text/plain": [
       "0    [after, a, long, day, visiting, agra, what, an...\n",
       "1    [what, a, wonderful, team, they, have, there, ...\n",
       "2    [had, an, amazing, food, experience, with, k3,...\n",
       "3    [first, of, all, sorry, for, writing, the, rev...\n",
       "4    [this, was, a, repeat, visit, at, k3, enjoyed,...\n",
       "5    [i, come, to, this, hotel, 23, times, a, month...\n",
       "6    [celebrated, my, birthday, at, k3, today, and,...\n",
       "7    [the, food, in, this, places, is, amazing, is,...\n",
       "8    [had, a, great, experience, dining, at, k3, he...\n",
       "9    [its, a, lovely, place, to, be, at, the, food,...\n",
       "Name: tokenized_para, dtype: object"
      ]
     },
     "execution_count": 32,
     "metadata": {},
     "output_type": "execute_result"
    }
   ],
   "source": [
    "frame['tokenized_para']"
   ]
  },
  {
   "cell_type": "code",
   "execution_count": 33,
   "metadata": {},
   "outputs": [
    {
     "name": "stderr",
     "output_type": "stream",
     "text": [
      "[nltk_data] Downloading package stopwords to\n",
      "[nltk_data]     C:\\Users\\rahul\\AppData\\Roaming\\nltk_data...\n",
      "[nltk_data]   Package stopwords is already up-to-date!\n"
     ]
    },
    {
     "data": {
      "text/plain": [
       "True"
      ]
     },
     "execution_count": 33,
     "metadata": {},
     "output_type": "execute_result"
    }
   ],
   "source": [
    "nltk.download('stopwords')"
   ]
  },
  {
   "cell_type": "code",
   "execution_count": 34,
   "metadata": {},
   "outputs": [],
   "source": [
    "from nltk.corpus import stopwords"
   ]
  },
  {
   "cell_type": "code",
   "execution_count": 35,
   "metadata": {},
   "outputs": [],
   "source": [
    "stop_words = set(stopwords.words('english'))"
   ]
  },
  {
   "cell_type": "code",
   "execution_count": 36,
   "metadata": {},
   "outputs": [],
   "source": [
    "#Removal of Stop Words from Tokenized Review Column\n",
    "\n",
    "frame['tokenized_para']= frame['tokenized_para'].apply(lambda x: [w for w in x if not w in stop_words])"
   ]
  },
  {
   "cell_type": "code",
   "execution_count": 37,
   "metadata": {},
   "outputs": [
    {
     "data": {
      "text/html": [
       "<div>\n",
       "<style scoped>\n",
       "    .dataframe tbody tr th:only-of-type {\n",
       "        vertical-align: middle;\n",
       "    }\n",
       "\n",
       "    .dataframe tbody tr th {\n",
       "        vertical-align: top;\n",
       "    }\n",
       "\n",
       "    .dataframe thead th {\n",
       "        text-align: right;\n",
       "    }\n",
       "</style>\n",
       "<table border=\"1\" class=\"dataframe\">\n",
       "  <thead>\n",
       "    <tr style=\"text-align: right;\">\n",
       "      <th></th>\n",
       "      <th>Rating</th>\n",
       "      <th>Review Date</th>\n",
       "      <th>Review Paragraph</th>\n",
       "      <th>Review Title</th>\n",
       "      <th>tokenized_para</th>\n",
       "    </tr>\n",
       "  </thead>\n",
       "  <tbody>\n",
       "    <tr>\n",
       "      <th>0</th>\n",
       "      <td>5</td>\n",
       "      <td>September 2019</td>\n",
       "      <td>after a long day visiting agra what an awesome...</td>\n",
       "      <td>great food with wonderful service</td>\n",
       "      <td>[long, day, visiting, agra, awesome, experienc...</td>\n",
       "    </tr>\n",
       "    <tr>\n",
       "      <th>1</th>\n",
       "      <td>5</td>\n",
       "      <td>September 2019</td>\n",
       "      <td>what a wonderful team they have there supervis...</td>\n",
       "      <td>excellent hospitality</td>\n",
       "      <td>[wonderful, team, supervisor, atish, excellent...</td>\n",
       "    </tr>\n",
       "    <tr>\n",
       "      <th>2</th>\n",
       "      <td>5</td>\n",
       "      <td>September 2019</td>\n",
       "      <td>had an amazing food experience with k3 everyth...</td>\n",
       "      <td>excellent</td>\n",
       "      <td>[amazing, food, experience, k3, everything, pe...</td>\n",
       "    </tr>\n",
       "    <tr>\n",
       "      <th>3</th>\n",
       "      <td>5</td>\n",
       "      <td>September 2019</td>\n",
       "      <td>first of all sorry for writing the review so l...</td>\n",
       "      <td>best service at k3</td>\n",
       "      <td>[first, sorry, writing, review, late, travelli...</td>\n",
       "    </tr>\n",
       "    <tr>\n",
       "      <th>4</th>\n",
       "      <td>5</td>\n",
       "      <td>September 2019</td>\n",
       "      <td>this was a repeat visit at k3\\nenjoyed the foo...</td>\n",
       "      <td>awesome</td>\n",
       "      <td>[repeat, visit, k3, enjoyed, food, pizza, yum,...</td>\n",
       "    </tr>\n",
       "    <tr>\n",
       "      <th>5</th>\n",
       "      <td>5</td>\n",
       "      <td>September 2019</td>\n",
       "      <td>i come to this hotel 23 times a month and im t...</td>\n",
       "      <td>chef rahul takes care of his valued customers</td>\n",
       "      <td>[come, hotel, 23, times, month, im, treated, l...</td>\n",
       "    </tr>\n",
       "    <tr>\n",
       "      <th>6</th>\n",
       "      <td>4</td>\n",
       "      <td>September 2019</td>\n",
       "      <td>celebrated my birthday at k3 today and it was ...</td>\n",
       "      <td>lunch at k3</td>\n",
       "      <td>[celebrated, birthday, k3, today, lovely, expe...</td>\n",
       "    </tr>\n",
       "    <tr>\n",
       "      <th>7</th>\n",
       "      <td>5</td>\n",
       "      <td>September 2019</td>\n",
       "      <td>the food in this places is amazing is varied a...</td>\n",
       "      <td>excellent food</td>\n",
       "      <td>[food, places, amazing, varied, tasty, sous, c...</td>\n",
       "    </tr>\n",
       "    <tr>\n",
       "      <th>8</th>\n",
       "      <td>5</td>\n",
       "      <td>August 2019</td>\n",
       "      <td>had a great experience dining at k3 here you c...</td>\n",
       "      <td>good food good service</td>\n",
       "      <td>[great, experience, dining, k3, enjoy, variety...</td>\n",
       "    </tr>\n",
       "    <tr>\n",
       "      <th>9</th>\n",
       "      <td>5</td>\n",
       "      <td>September 2019</td>\n",
       "      <td>its a lovely place to be at the food is tasty ...</td>\n",
       "      <td>brilliant food great ambience  nice hospitality</td>\n",
       "      <td>[lovely, place, food, tasty, restaurant, beaut...</td>\n",
       "    </tr>\n",
       "  </tbody>\n",
       "</table>\n",
       "</div>"
      ],
      "text/plain": [
       "  Rating      Review Date                                   Review Paragraph  \\\n",
       "0      5   September 2019  after a long day visiting agra what an awesome...   \n",
       "1      5   September 2019  what a wonderful team they have there supervis...   \n",
       "2      5   September 2019  had an amazing food experience with k3 everyth...   \n",
       "3      5   September 2019  first of all sorry for writing the review so l...   \n",
       "4      5   September 2019  this was a repeat visit at k3\\nenjoyed the foo...   \n",
       "5      5   September 2019  i come to this hotel 23 times a month and im t...   \n",
       "6      4   September 2019  celebrated my birthday at k3 today and it was ...   \n",
       "7      5   September 2019  the food in this places is amazing is varied a...   \n",
       "8      5      August 2019  had a great experience dining at k3 here you c...   \n",
       "9      5   September 2019  its a lovely place to be at the food is tasty ...   \n",
       "\n",
       "                                      Review Title  \\\n",
       "0                great food with wonderful service   \n",
       "1                            excellent hospitality   \n",
       "2                                        excellent   \n",
       "3                               best service at k3   \n",
       "4                                          awesome   \n",
       "5    chef rahul takes care of his valued customers   \n",
       "6                                      lunch at k3   \n",
       "7                                   excellent food   \n",
       "8                           good food good service   \n",
       "9  brilliant food great ambience  nice hospitality   \n",
       "\n",
       "                                      tokenized_para  \n",
       "0  [long, day, visiting, agra, awesome, experienc...  \n",
       "1  [wonderful, team, supervisor, atish, excellent...  \n",
       "2  [amazing, food, experience, k3, everything, pe...  \n",
       "3  [first, sorry, writing, review, late, travelli...  \n",
       "4  [repeat, visit, k3, enjoyed, food, pizza, yum,...  \n",
       "5  [come, hotel, 23, times, month, im, treated, l...  \n",
       "6  [celebrated, birthday, k3, today, lovely, expe...  \n",
       "7  [food, places, amazing, varied, tasty, sous, c...  \n",
       "8  [great, experience, dining, k3, enjoy, variety...  \n",
       "9  [lovely, place, food, tasty, restaurant, beaut...  "
      ]
     },
     "execution_count": 37,
     "metadata": {},
     "output_type": "execute_result"
    }
   ],
   "source": [
    "frame"
   ]
  },
  {
   "cell_type": "code",
   "execution_count": 38,
   "metadata": {},
   "outputs": [],
   "source": [
    "#Stemming and Lemmatization\n",
    "\n",
    "from nltk.stem import PorterStemmer, WordNetLemmatizer\n",
    "porter_stemmer = PorterStemmer()"
   ]
  },
  {
   "cell_type": "code",
   "execution_count": 39,
   "metadata": {},
   "outputs": [],
   "source": [
    "frame['stemmed_para'] = frame['tokenized_para'].apply(lambda x: [porter_stemmer.stem(y) for y in x])"
   ]
  },
  {
   "cell_type": "code",
   "execution_count": 40,
   "metadata": {},
   "outputs": [
    {
     "data": {
      "text/html": [
       "<div>\n",
       "<style scoped>\n",
       "    .dataframe tbody tr th:only-of-type {\n",
       "        vertical-align: middle;\n",
       "    }\n",
       "\n",
       "    .dataframe tbody tr th {\n",
       "        vertical-align: top;\n",
       "    }\n",
       "\n",
       "    .dataframe thead th {\n",
       "        text-align: right;\n",
       "    }\n",
       "</style>\n",
       "<table border=\"1\" class=\"dataframe\">\n",
       "  <thead>\n",
       "    <tr style=\"text-align: right;\">\n",
       "      <th></th>\n",
       "      <th>Rating</th>\n",
       "      <th>Review Date</th>\n",
       "      <th>Review Paragraph</th>\n",
       "      <th>Review Title</th>\n",
       "      <th>tokenized_para</th>\n",
       "      <th>stemmed_para</th>\n",
       "    </tr>\n",
       "  </thead>\n",
       "  <tbody>\n",
       "    <tr>\n",
       "      <th>0</th>\n",
       "      <td>5</td>\n",
       "      <td>September 2019</td>\n",
       "      <td>after a long day visiting agra what an awesome...</td>\n",
       "      <td>great food with wonderful service</td>\n",
       "      <td>[long, day, visiting, agra, awesome, experienc...</td>\n",
       "      <td>[long, day, visit, agra, awesom, experi, thank...</td>\n",
       "    </tr>\n",
       "    <tr>\n",
       "      <th>1</th>\n",
       "      <td>5</td>\n",
       "      <td>September 2019</td>\n",
       "      <td>what a wonderful team they have there supervis...</td>\n",
       "      <td>excellent hospitality</td>\n",
       "      <td>[wonderful, team, supervisor, atish, excellent...</td>\n",
       "      <td>[wonder, team, supervisor, atish, excel, warm,...</td>\n",
       "    </tr>\n",
       "    <tr>\n",
       "      <th>2</th>\n",
       "      <td>5</td>\n",
       "      <td>September 2019</td>\n",
       "      <td>had an amazing food experience with k3 everyth...</td>\n",
       "      <td>excellent</td>\n",
       "      <td>[amazing, food, experience, k3, everything, pe...</td>\n",
       "      <td>[amaz, food, experi, k3, everyth, perfect, foo...</td>\n",
       "    </tr>\n",
       "    <tr>\n",
       "      <th>3</th>\n",
       "      <td>5</td>\n",
       "      <td>September 2019</td>\n",
       "      <td>first of all sorry for writing the review so l...</td>\n",
       "      <td>best service at k3</td>\n",
       "      <td>[first, sorry, writing, review, late, travelli...</td>\n",
       "      <td>[first, sorri, write, review, late, travel, vi...</td>\n",
       "    </tr>\n",
       "    <tr>\n",
       "      <th>4</th>\n",
       "      <td>5</td>\n",
       "      <td>September 2019</td>\n",
       "      <td>this was a repeat visit at k3\\nenjoyed the foo...</td>\n",
       "      <td>awesome</td>\n",
       "      <td>[repeat, visit, k3, enjoyed, food, pizza, yum,...</td>\n",
       "      <td>[repeat, visit, k3, enjoy, food, pizza, yum, t...</td>\n",
       "    </tr>\n",
       "    <tr>\n",
       "      <th>5</th>\n",
       "      <td>5</td>\n",
       "      <td>September 2019</td>\n",
       "      <td>i come to this hotel 23 times a month and im t...</td>\n",
       "      <td>chef rahul takes care of his valued customers</td>\n",
       "      <td>[come, hotel, 23, times, month, im, treated, l...</td>\n",
       "      <td>[come, hotel, 23, time, month, im, treat, like...</td>\n",
       "    </tr>\n",
       "    <tr>\n",
       "      <th>6</th>\n",
       "      <td>4</td>\n",
       "      <td>September 2019</td>\n",
       "      <td>celebrated my birthday at k3 today and it was ...</td>\n",
       "      <td>lunch at k3</td>\n",
       "      <td>[celebrated, birthday, k3, today, lovely, expe...</td>\n",
       "      <td>[celebr, birthday, k3, today, love, experi, we...</td>\n",
       "    </tr>\n",
       "    <tr>\n",
       "      <th>7</th>\n",
       "      <td>5</td>\n",
       "      <td>September 2019</td>\n",
       "      <td>the food in this places is amazing is varied a...</td>\n",
       "      <td>excellent food</td>\n",
       "      <td>[food, places, amazing, varied, tasty, sous, c...</td>\n",
       "      <td>[food, place, amaz, vari, tasti, sou, chef, as...</td>\n",
       "    </tr>\n",
       "    <tr>\n",
       "      <th>8</th>\n",
       "      <td>5</td>\n",
       "      <td>August 2019</td>\n",
       "      <td>had a great experience dining at k3 here you c...</td>\n",
       "      <td>good food good service</td>\n",
       "      <td>[great, experience, dining, k3, enjoy, variety...</td>\n",
       "      <td>[great, experi, dine, k3, enjoy, varieti, food...</td>\n",
       "    </tr>\n",
       "    <tr>\n",
       "      <th>9</th>\n",
       "      <td>5</td>\n",
       "      <td>September 2019</td>\n",
       "      <td>its a lovely place to be at the food is tasty ...</td>\n",
       "      <td>brilliant food great ambience  nice hospitality</td>\n",
       "      <td>[lovely, place, food, tasty, restaurant, beaut...</td>\n",
       "      <td>[love, place, food, tasti, restaur, beauti, ak...</td>\n",
       "    </tr>\n",
       "  </tbody>\n",
       "</table>\n",
       "</div>"
      ],
      "text/plain": [
       "  Rating      Review Date                                   Review Paragraph  \\\n",
       "0      5   September 2019  after a long day visiting agra what an awesome...   \n",
       "1      5   September 2019  what a wonderful team they have there supervis...   \n",
       "2      5   September 2019  had an amazing food experience with k3 everyth...   \n",
       "3      5   September 2019  first of all sorry for writing the review so l...   \n",
       "4      5   September 2019  this was a repeat visit at k3\\nenjoyed the foo...   \n",
       "5      5   September 2019  i come to this hotel 23 times a month and im t...   \n",
       "6      4   September 2019  celebrated my birthday at k3 today and it was ...   \n",
       "7      5   September 2019  the food in this places is amazing is varied a...   \n",
       "8      5      August 2019  had a great experience dining at k3 here you c...   \n",
       "9      5   September 2019  its a lovely place to be at the food is tasty ...   \n",
       "\n",
       "                                      Review Title  \\\n",
       "0                great food with wonderful service   \n",
       "1                            excellent hospitality   \n",
       "2                                        excellent   \n",
       "3                               best service at k3   \n",
       "4                                          awesome   \n",
       "5    chef rahul takes care of his valued customers   \n",
       "6                                      lunch at k3   \n",
       "7                                   excellent food   \n",
       "8                           good food good service   \n",
       "9  brilliant food great ambience  nice hospitality   \n",
       "\n",
       "                                      tokenized_para  \\\n",
       "0  [long, day, visiting, agra, awesome, experienc...   \n",
       "1  [wonderful, team, supervisor, atish, excellent...   \n",
       "2  [amazing, food, experience, k3, everything, pe...   \n",
       "3  [first, sorry, writing, review, late, travelli...   \n",
       "4  [repeat, visit, k3, enjoyed, food, pizza, yum,...   \n",
       "5  [come, hotel, 23, times, month, im, treated, l...   \n",
       "6  [celebrated, birthday, k3, today, lovely, expe...   \n",
       "7  [food, places, amazing, varied, tasty, sous, c...   \n",
       "8  [great, experience, dining, k3, enjoy, variety...   \n",
       "9  [lovely, place, food, tasty, restaurant, beaut...   \n",
       "\n",
       "                                        stemmed_para  \n",
       "0  [long, day, visit, agra, awesom, experi, thank...  \n",
       "1  [wonder, team, supervisor, atish, excel, warm,...  \n",
       "2  [amaz, food, experi, k3, everyth, perfect, foo...  \n",
       "3  [first, sorri, write, review, late, travel, vi...  \n",
       "4  [repeat, visit, k3, enjoy, food, pizza, yum, t...  \n",
       "5  [come, hotel, 23, time, month, im, treat, like...  \n",
       "6  [celebr, birthday, k3, today, love, experi, we...  \n",
       "7  [food, place, amaz, vari, tasti, sou, chef, as...  \n",
       "8  [great, experi, dine, k3, enjoy, varieti, food...  \n",
       "9  [love, place, food, tasti, restaur, beauti, ak...  "
      ]
     },
     "execution_count": 40,
     "metadata": {},
     "output_type": "execute_result"
    }
   ],
   "source": [
    "frame"
   ]
  },
  {
   "cell_type": "code",
   "execution_count": 41,
   "metadata": {},
   "outputs": [],
   "source": [
    "lemmatizer = WordNetLemmatizer()"
   ]
  },
  {
   "cell_type": "code",
   "execution_count": 42,
   "metadata": {},
   "outputs": [],
   "source": [
    "frame['lemmatizer_para'] = frame['tokenized_para'].apply(lambda x: [lemmatizer.lemmatize(y) for y in x])"
   ]
  },
  {
   "cell_type": "code",
   "execution_count": 43,
   "metadata": {},
   "outputs": [
    {
     "data": {
      "text/html": [
       "<div>\n",
       "<style scoped>\n",
       "    .dataframe tbody tr th:only-of-type {\n",
       "        vertical-align: middle;\n",
       "    }\n",
       "\n",
       "    .dataframe tbody tr th {\n",
       "        vertical-align: top;\n",
       "    }\n",
       "\n",
       "    .dataframe thead th {\n",
       "        text-align: right;\n",
       "    }\n",
       "</style>\n",
       "<table border=\"1\" class=\"dataframe\">\n",
       "  <thead>\n",
       "    <tr style=\"text-align: right;\">\n",
       "      <th></th>\n",
       "      <th>Rating</th>\n",
       "      <th>Review Date</th>\n",
       "      <th>Review Paragraph</th>\n",
       "      <th>Review Title</th>\n",
       "      <th>tokenized_para</th>\n",
       "      <th>stemmed_para</th>\n",
       "      <th>lemmatizer_para</th>\n",
       "    </tr>\n",
       "  </thead>\n",
       "  <tbody>\n",
       "    <tr>\n",
       "      <th>0</th>\n",
       "      <td>5</td>\n",
       "      <td>September 2019</td>\n",
       "      <td>after a long day visiting agra what an awesome...</td>\n",
       "      <td>great food with wonderful service</td>\n",
       "      <td>[long, day, visiting, agra, awesome, experienc...</td>\n",
       "      <td>[long, day, visit, agra, awesom, experi, thank...</td>\n",
       "      <td>[long, day, visiting, agra, awesome, experienc...</td>\n",
       "    </tr>\n",
       "    <tr>\n",
       "      <th>1</th>\n",
       "      <td>5</td>\n",
       "      <td>September 2019</td>\n",
       "      <td>what a wonderful team they have there supervis...</td>\n",
       "      <td>excellent hospitality</td>\n",
       "      <td>[wonderful, team, supervisor, atish, excellent...</td>\n",
       "      <td>[wonder, team, supervisor, atish, excel, warm,...</td>\n",
       "      <td>[wonderful, team, supervisor, atish, excellent...</td>\n",
       "    </tr>\n",
       "    <tr>\n",
       "      <th>2</th>\n",
       "      <td>5</td>\n",
       "      <td>September 2019</td>\n",
       "      <td>had an amazing food experience with k3 everyth...</td>\n",
       "      <td>excellent</td>\n",
       "      <td>[amazing, food, experience, k3, everything, pe...</td>\n",
       "      <td>[amaz, food, experi, k3, everyth, perfect, foo...</td>\n",
       "      <td>[amazing, food, experience, k3, everything, pe...</td>\n",
       "    </tr>\n",
       "    <tr>\n",
       "      <th>3</th>\n",
       "      <td>5</td>\n",
       "      <td>September 2019</td>\n",
       "      <td>first of all sorry for writing the review so l...</td>\n",
       "      <td>best service at k3</td>\n",
       "      <td>[first, sorry, writing, review, late, travelli...</td>\n",
       "      <td>[first, sorri, write, review, late, travel, vi...</td>\n",
       "      <td>[first, sorry, writing, review, late, travelli...</td>\n",
       "    </tr>\n",
       "    <tr>\n",
       "      <th>4</th>\n",
       "      <td>5</td>\n",
       "      <td>September 2019</td>\n",
       "      <td>this was a repeat visit at k3\\nenjoyed the foo...</td>\n",
       "      <td>awesome</td>\n",
       "      <td>[repeat, visit, k3, enjoyed, food, pizza, yum,...</td>\n",
       "      <td>[repeat, visit, k3, enjoy, food, pizza, yum, t...</td>\n",
       "      <td>[repeat, visit, k3, enjoyed, food, pizza, yum,...</td>\n",
       "    </tr>\n",
       "    <tr>\n",
       "      <th>5</th>\n",
       "      <td>5</td>\n",
       "      <td>September 2019</td>\n",
       "      <td>i come to this hotel 23 times a month and im t...</td>\n",
       "      <td>chef rahul takes care of his valued customers</td>\n",
       "      <td>[come, hotel, 23, times, month, im, treated, l...</td>\n",
       "      <td>[come, hotel, 23, time, month, im, treat, like...</td>\n",
       "      <td>[come, hotel, 23, time, month, im, treated, li...</td>\n",
       "    </tr>\n",
       "    <tr>\n",
       "      <th>6</th>\n",
       "      <td>4</td>\n",
       "      <td>September 2019</td>\n",
       "      <td>celebrated my birthday at k3 today and it was ...</td>\n",
       "      <td>lunch at k3</td>\n",
       "      <td>[celebrated, birthday, k3, today, lovely, expe...</td>\n",
       "      <td>[celebr, birthday, k3, today, love, experi, we...</td>\n",
       "      <td>[celebrated, birthday, k3, today, lovely, expe...</td>\n",
       "    </tr>\n",
       "    <tr>\n",
       "      <th>7</th>\n",
       "      <td>5</td>\n",
       "      <td>September 2019</td>\n",
       "      <td>the food in this places is amazing is varied a...</td>\n",
       "      <td>excellent food</td>\n",
       "      <td>[food, places, amazing, varied, tasty, sous, c...</td>\n",
       "      <td>[food, place, amaz, vari, tasti, sou, chef, as...</td>\n",
       "      <td>[food, place, amazing, varied, tasty, sou, che...</td>\n",
       "    </tr>\n",
       "    <tr>\n",
       "      <th>8</th>\n",
       "      <td>5</td>\n",
       "      <td>August 2019</td>\n",
       "      <td>had a great experience dining at k3 here you c...</td>\n",
       "      <td>good food good service</td>\n",
       "      <td>[great, experience, dining, k3, enjoy, variety...</td>\n",
       "      <td>[great, experi, dine, k3, enjoy, varieti, food...</td>\n",
       "      <td>[great, experience, dining, k3, enjoy, variety...</td>\n",
       "    </tr>\n",
       "    <tr>\n",
       "      <th>9</th>\n",
       "      <td>5</td>\n",
       "      <td>September 2019</td>\n",
       "      <td>its a lovely place to be at the food is tasty ...</td>\n",
       "      <td>brilliant food great ambience  nice hospitality</td>\n",
       "      <td>[lovely, place, food, tasty, restaurant, beaut...</td>\n",
       "      <td>[love, place, food, tasti, restaur, beauti, ak...</td>\n",
       "      <td>[lovely, place, food, tasty, restaurant, beaut...</td>\n",
       "    </tr>\n",
       "  </tbody>\n",
       "</table>\n",
       "</div>"
      ],
      "text/plain": [
       "  Rating      Review Date                                   Review Paragraph  \\\n",
       "0      5   September 2019  after a long day visiting agra what an awesome...   \n",
       "1      5   September 2019  what a wonderful team they have there supervis...   \n",
       "2      5   September 2019  had an amazing food experience with k3 everyth...   \n",
       "3      5   September 2019  first of all sorry for writing the review so l...   \n",
       "4      5   September 2019  this was a repeat visit at k3\\nenjoyed the foo...   \n",
       "5      5   September 2019  i come to this hotel 23 times a month and im t...   \n",
       "6      4   September 2019  celebrated my birthday at k3 today and it was ...   \n",
       "7      5   September 2019  the food in this places is amazing is varied a...   \n",
       "8      5      August 2019  had a great experience dining at k3 here you c...   \n",
       "9      5   September 2019  its a lovely place to be at the food is tasty ...   \n",
       "\n",
       "                                      Review Title  \\\n",
       "0                great food with wonderful service   \n",
       "1                            excellent hospitality   \n",
       "2                                        excellent   \n",
       "3                               best service at k3   \n",
       "4                                          awesome   \n",
       "5    chef rahul takes care of his valued customers   \n",
       "6                                      lunch at k3   \n",
       "7                                   excellent food   \n",
       "8                           good food good service   \n",
       "9  brilliant food great ambience  nice hospitality   \n",
       "\n",
       "                                      tokenized_para  \\\n",
       "0  [long, day, visiting, agra, awesome, experienc...   \n",
       "1  [wonderful, team, supervisor, atish, excellent...   \n",
       "2  [amazing, food, experience, k3, everything, pe...   \n",
       "3  [first, sorry, writing, review, late, travelli...   \n",
       "4  [repeat, visit, k3, enjoyed, food, pizza, yum,...   \n",
       "5  [come, hotel, 23, times, month, im, treated, l...   \n",
       "6  [celebrated, birthday, k3, today, lovely, expe...   \n",
       "7  [food, places, amazing, varied, tasty, sous, c...   \n",
       "8  [great, experience, dining, k3, enjoy, variety...   \n",
       "9  [lovely, place, food, tasty, restaurant, beaut...   \n",
       "\n",
       "                                        stemmed_para  \\\n",
       "0  [long, day, visit, agra, awesom, experi, thank...   \n",
       "1  [wonder, team, supervisor, atish, excel, warm,...   \n",
       "2  [amaz, food, experi, k3, everyth, perfect, foo...   \n",
       "3  [first, sorri, write, review, late, travel, vi...   \n",
       "4  [repeat, visit, k3, enjoy, food, pizza, yum, t...   \n",
       "5  [come, hotel, 23, time, month, im, treat, like...   \n",
       "6  [celebr, birthday, k3, today, love, experi, we...   \n",
       "7  [food, place, amaz, vari, tasti, sou, chef, as...   \n",
       "8  [great, experi, dine, k3, enjoy, varieti, food...   \n",
       "9  [love, place, food, tasti, restaur, beauti, ak...   \n",
       "\n",
       "                                     lemmatizer_para  \n",
       "0  [long, day, visiting, agra, awesome, experienc...  \n",
       "1  [wonderful, team, supervisor, atish, excellent...  \n",
       "2  [amazing, food, experience, k3, everything, pe...  \n",
       "3  [first, sorry, writing, review, late, travelli...  \n",
       "4  [repeat, visit, k3, enjoyed, food, pizza, yum,...  \n",
       "5  [come, hotel, 23, time, month, im, treated, li...  \n",
       "6  [celebrated, birthday, k3, today, lovely, expe...  \n",
       "7  [food, place, amazing, varied, tasty, sou, che...  \n",
       "8  [great, experience, dining, k3, enjoy, variety...  \n",
       "9  [lovely, place, food, tasty, restaurant, beaut...  "
      ]
     },
     "execution_count": 43,
     "metadata": {},
     "output_type": "execute_result"
    }
   ],
   "source": [
    "frame"
   ]
  },
  {
   "cell_type": "code",
   "execution_count": 133,
   "metadata": {},
   "outputs": [],
   "source": [
    "# I will go with stemmed para for further process"
   ]
  },
  {
   "cell_type": "code",
   "execution_count": 134,
   "metadata": {},
   "outputs": [],
   "source": [
    "from collections import Counter"
   ]
  },
  {
   "cell_type": "code",
   "execution_count": 135,
   "metadata": {},
   "outputs": [],
   "source": [
    "frame['new']=frame['stemmed_para'].apply(' '.join)\n"
   ]
  },
  {
   "cell_type": "code",
   "execution_count": 136,
   "metadata": {},
   "outputs": [],
   "source": [
    "para = ' '.join(frame['new'].tolist())"
   ]
  },
  {
   "cell_type": "code",
   "execution_count": 137,
   "metadata": {},
   "outputs": [
    {
     "data": {
      "text/plain": [
       "'long day visit agra awesom experi thank akshay best server order al la cart wasnt super hungri buffet also look good plethora choic highli recommend restaur wonder team supervisor atish excel warm welcom hospit best inde thank much atish take care last weekmor amaz food experi k3 everyth perfect food present servic provid rishabh mayank nice overal experi fabul thanxmor first sorri write review late travel visit k3 friday famili rush wait tabl allot us wife pregnantmor repeat visit k3 enjoy food pizza yum thank rishabh mayank great servicemor come hotel 23 time month im treat like famili today desir dal makhani although menu chef rahul made sure got delici wait staff kitchen staff host staff accommodatingmor celebr birthday k3 today love experi well look digamb bakeri creat warm experi small cake chef live italian counter hospit overal amor food place amaz vari tasti sou chef ashish sharma welcom food excel qualitymor great experi dine k3 enjoy varieti food experi excel servic serv rishabh provid everyth time famili love servic well keep jw marriottmor love place food tasti restaur beauti akshay bhupal wait us love overal nice experi food slightli expens howev highli recommend'"
      ]
     },
     "execution_count": 137,
     "metadata": {},
     "output_type": "execute_result"
    }
   ],
   "source": [
    "#Para1: Paragraph without stop words and no punctuation.\n",
    "\n",
    "para"
   ]
  },
  {
   "cell_type": "code",
   "execution_count": 138,
   "metadata": {},
   "outputs": [
    {
     "data": {
      "text/plain": [
       "str"
      ]
     },
     "execution_count": 138,
     "metadata": {},
     "output_type": "execute_result"
    }
   ],
   "source": [
    "type(para)"
   ]
  },
  {
   "cell_type": "code",
   "execution_count": 139,
   "metadata": {},
   "outputs": [
    {
     "data": {
      "text/plain": [
       "[('experi', 8),\n",
       " ('food', 8),\n",
       " ('k3', 5),\n",
       " ('love', 4),\n",
       " ('visit', 3),\n",
       " ('thank', 3),\n",
       " ('excel', 3),\n",
       " ('servic', 3),\n",
       " ('rishabh', 3),\n",
       " ('overal', 3)]"
      ]
     },
     "execution_count": 139,
     "metadata": {},
     "output_type": "execute_result"
    }
   ],
   "source": [
    "# Top 10 words from para1\n",
    "\n",
    "words2 = Counter()\n",
    "words2.update(para.split())\n",
    "words2.most_common(10)"
   ]
  },
  {
   "cell_type": "code",
   "execution_count": 140,
   "metadata": {},
   "outputs": [],
   "source": [
    "para2 = ' '.join(frame['Review Paragraph'].tolist())"
   ]
  },
  {
   "cell_type": "code",
   "execution_count": 141,
   "metadata": {},
   "outputs": [
    {
     "data": {
      "text/plain": [
       "'after a long day visiting agra what an awesome experience thanks akshay for being the the best server  i ordered al la cart wasnt super hungry but the buffet also looks very good with a plethora of choices  i highly recommend this restaurant what a wonderful team they have there supervisor atish is excellent so warm welcoming hospitality at its best indeed thank you so much atish for taking care of me when i was there last weekmore had an amazing food experience with k3 everything was just perfect \\nfood\\npresentations \\nand the service provided by rishabh and mayank was very nice overall experience with them was fabulous thanxmore first of all sorry for writing the review so late as i was travelling i visited the k3 on friday with my family there was so rush that we had to wait for the table to be allotted to us as my wife was pregnantmore this was a repeat visit at k3\\nenjoyed the food pizza was yum  \\nthanks rishabh and mayank for great servicemore i come to this hotel 23 times a month and im treated like family\\n\\ntoday i desired dal makhani and although not on the menu chef rahul made sure i got it\\n\\ndelicious\\n\\nthe wait staff kitchen staff and host staff are all very accommodatingmore celebrated my birthday at k3 today and it was a lovely experience we were very well looked after  digamber from bakery created a warm experience for me with a small cake\\nchefs from the live italian counter were very hospitable \\n\\noverall it was amore the food in this places is amazing is varied and very tasty \\nthe sous chef ashish sharma was very welcoming and his food is of excellent qualitymore had a great experience dining at k3 here you can enjoy variety of food and experience a excellent service i was served by rishabh and he provided everything on time and my family loved the service as well keep it up jw marriottmore its a lovely place to be at the food is tasty and the restaurant is just beautiful akshay and bhupal waited on us and they were just lovely overall it was a nice experience food is slightly expensive however \\n\\nhighly recommended more'"
      ]
     },
     "execution_count": 141,
     "metadata": {},
     "output_type": "execute_result"
    }
   ],
   "source": [
    "# Para2:  Paragraph directly from website(Including stop words)\n",
    "\n",
    "para2"
   ]
  },
  {
   "cell_type": "code",
   "execution_count": 142,
   "metadata": {},
   "outputs": [
    {
     "data": {
      "text/plain": [
       "[('the', 16),\n",
       " ('and', 15),\n",
       " ('was', 14),\n",
       " ('a', 12),\n",
       " ('i', 9),\n",
       " ('experience', 8),\n",
       " ('food', 8),\n",
       " ('very', 7),\n",
       " ('is', 7),\n",
       " ('for', 6)]"
      ]
     },
     "execution_count": 142,
     "metadata": {},
     "output_type": "execute_result"
    }
   ],
   "source": [
    "#Top 10 words from Para2\n",
    "\n",
    "words3 = Counter()\n",
    "words3.update(para2.split())\n",
    "words3.most_common(10)"
   ]
  },
  {
   "cell_type": "code",
   "execution_count": 143,
   "metadata": {},
   "outputs": [],
   "source": [
    "from nltk.sentiment.vader import SentimentIntensityAnalyzer"
   ]
  },
  {
   "cell_type": "code",
   "execution_count": 147,
   "metadata": {},
   "outputs": [],
   "source": [
    "analyser = SentimentIntensityAnalyzer()"
   ]
  },
  {
   "cell_type": "code",
   "execution_count": 148,
   "metadata": {},
   "outputs": [
    {
     "name": "stderr",
     "output_type": "stream",
     "text": [
      "[nltk_data] Downloading package vader_lexicon to\n",
      "[nltk_data]     C:\\Users\\rahul\\AppData\\Roaming\\nltk_data...\n",
      "[nltk_data]   Package vader_lexicon is already up-to-date!\n"
     ]
    },
    {
     "data": {
      "text/plain": [
       "True"
      ]
     },
     "execution_count": 148,
     "metadata": {},
     "output_type": "execute_result"
    }
   ],
   "source": [
    "nltk.download('vader_lexicon')"
   ]
  },
  {
   "cell_type": "code",
   "execution_count": 167,
   "metadata": {},
   "outputs": [],
   "source": [
    "score = analyser.polarity_scores('after a long day visiting agra what an awesome')"
   ]
  },
  {
   "cell_type": "code",
   "execution_count": 173,
   "metadata": {},
   "outputs": [
    {
     "name": "stdout",
     "output_type": "stream",
     "text": [
      "{'neg': 0.0, 'neu': 0.737, 'pos': 0.263, 'compound': 0.3612}\n"
     ]
    }
   ],
   "source": [
    "print(score)"
   ]
  },
  {
   "cell_type": "code",
   "execution_count": null,
   "metadata": {},
   "outputs": [],
   "source": []
  }
 ],
 "metadata": {
  "kernelspec": {
   "display_name": "Python 3",
   "language": "python",
   "name": "python3"
  },
  "language_info": {
   "codemirror_mode": {
    "name": "ipython",
    "version": 3
   },
   "file_extension": ".py",
   "mimetype": "text/x-python",
   "name": "python",
   "nbconvert_exporter": "python",
   "pygments_lexer": "ipython3",
   "version": "3.6.7"
  }
 },
 "nbformat": 4,
 "nbformat_minor": 2
}
